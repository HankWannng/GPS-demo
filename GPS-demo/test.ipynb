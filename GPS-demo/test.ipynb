{
 "cells": [
  {
   "cell_type": "code",
   "execution_count": 1,
   "metadata": {},
   "outputs": [],
   "source": [
    "import pandas as pd"
   ]
  },
  {
   "cell_type": "code",
   "execution_count": 3,
   "metadata": {},
   "outputs": [
    {
     "data": {
      "text/html": [
       "<div>\n",
       "<style scoped>\n",
       "    .dataframe tbody tr th:only-of-type {\n",
       "        vertical-align: middle;\n",
       "    }\n",
       "\n",
       "    .dataframe tbody tr th {\n",
       "        vertical-align: top;\n",
       "    }\n",
       "\n",
       "    .dataframe thead th {\n",
       "        text-align: right;\n",
       "    }\n",
       "</style>\n",
       "<table border=\"1\" class=\"dataframe\">\n",
       "  <thead>\n",
       "    <tr style=\"text-align: right;\">\n",
       "      <th></th>\n",
       "      <th>Unnamed: 0</th>\n",
       "      <th>Unnamed: 1</th>\n",
       "      <th>Unnamed: 2</th>\n",
       "      <th>Unnamed: 3</th>\n",
       "      <th>Unnamed: 4</th>\n",
       "      <th>Unnamed: 5</th>\n",
       "      <th>Unnamed: 6</th>\n",
       "      <th>Unnamed: 7</th>\n",
       "      <th>Unnamed: 8</th>\n",
       "      <th>Unnamed: 9</th>\n",
       "      <th>Unnamed: 10</th>\n",
       "      <th>Unnamed: 11</th>\n",
       "    </tr>\n",
       "  </thead>\n",
       "  <tbody>\n",
       "    <tr>\n",
       "      <th>0</th>\n",
       "      <td>NaN</td>\n",
       "      <td>苏ED1068_历史轨迹(2022-07-11_18-06-00至2022-07-12_08...</td>\n",
       "      <td>NaN</td>\n",
       "      <td>NaN</td>\n",
       "      <td>NaN</td>\n",
       "      <td>NaN</td>\n",
       "      <td>NaN</td>\n",
       "      <td>NaN</td>\n",
       "      <td>NaN</td>\n",
       "      <td>NaN</td>\n",
       "      <td>NaN</td>\n",
       "      <td>NaN</td>\n",
       "    </tr>\n",
       "    <tr>\n",
       "      <th>1</th>\n",
       "      <td>NaN</td>\n",
       "      <td>序号</td>\n",
       "      <td>定位时间</td>\n",
       "      <td>行驶速度</td>\n",
       "      <td>行驶方向</td>\n",
       "      <td>定位经度</td>\n",
       "      <td>定位纬度</td>\n",
       "      <td>地理位置</td>\n",
       "      <td>车辆名称</td>\n",
       "      <td>车牌号码</td>\n",
       "      <td>车牌颜色</td>\n",
       "      <td>车辆状态</td>\n",
       "    </tr>\n",
       "    <tr>\n",
       "      <th>2</th>\n",
       "      <td>NaN</td>\n",
       "      <td>1</td>\n",
       "      <td>2022-07-11 18:06:00</td>\n",
       "      <td>0 km/h</td>\n",
       "      <td>正北</td>\n",
       "      <td>121.01193</td>\n",
       "      <td>31.743285</td>\n",
       "      <td>江苏省苏州市常熟市;亚太路;张家桥,瓦屑坝,四方坝</td>\n",
       "      <td>苏ED1068</td>\n",
       "      <td>苏ED1068</td>\n",
       "      <td>黄色</td>\n",
       "      <td>在线 / 停车 / ACC关</td>\n",
       "    </tr>\n",
       "    <tr>\n",
       "      <th>3</th>\n",
       "      <td>NaN</td>\n",
       "      <td>2</td>\n",
       "      <td>2022-07-11 19:38:30</td>\n",
       "      <td>0 km/h</td>\n",
       "      <td>正北</td>\n",
       "      <td>121.012273</td>\n",
       "      <td>31.743138</td>\n",
       "      <td>江苏省苏州市常熟市;亚太路;瓦屑坝,张家桥,四方坝</td>\n",
       "      <td>苏ED1068</td>\n",
       "      <td>苏ED1068</td>\n",
       "      <td>黄色</td>\n",
       "      <td>在线 / 停车 / ACC开</td>\n",
       "    </tr>\n",
       "    <tr>\n",
       "      <th>4</th>\n",
       "      <td>NaN</td>\n",
       "      <td>3</td>\n",
       "      <td>2022-07-11 19:39:00</td>\n",
       "      <td>12 km/h</td>\n",
       "      <td>东北</td>\n",
       "      <td>121.013055</td>\n",
       "      <td>31.742938</td>\n",
       "      <td>江苏省苏州市常熟市;;瓦屑坝,四方坝,长春化工公司</td>\n",
       "      <td>苏ED1068</td>\n",
       "      <td>苏ED1068</td>\n",
       "      <td>黄色</td>\n",
       "      <td>在线 / 行驶</td>\n",
       "    </tr>\n",
       "    <tr>\n",
       "      <th>5</th>\n",
       "      <td>NaN</td>\n",
       "      <td>4</td>\n",
       "      <td>2022-07-11 19:39:30</td>\n",
       "      <td>14 km/h</td>\n",
       "      <td>东北</td>\n",
       "      <td>121.013672</td>\n",
       "      <td>31.743843</td>\n",
       "      <td>江苏省苏州市常熟市;;瓦屑坝,姚家泾,四方坝</td>\n",
       "      <td>苏ED1068</td>\n",
       "      <td>苏ED1068</td>\n",
       "      <td>黄色</td>\n",
       "      <td>在线 / 行驶</td>\n",
       "    </tr>\n",
       "    <tr>\n",
       "      <th>6</th>\n",
       "      <td>NaN</td>\n",
       "      <td>5</td>\n",
       "      <td>2022-07-11 19:40:00</td>\n",
       "      <td>13 km/h</td>\n",
       "      <td>东南</td>\n",
       "      <td>121.014705</td>\n",
       "      <td>31.74365</td>\n",
       "      <td>江苏省苏州市常熟市;;瓦屑坝,姚家泾,四方坝</td>\n",
       "      <td>苏ED1068</td>\n",
       "      <td>苏ED1068</td>\n",
       "      <td>黄色</td>\n",
       "      <td>在线 / 行驶</td>\n",
       "    </tr>\n",
       "    <tr>\n",
       "      <th>7</th>\n",
       "      <td>NaN</td>\n",
       "      <td>6</td>\n",
       "      <td>2022-07-11 19:40:30</td>\n",
       "      <td>13 km/h</td>\n",
       "      <td>东南</td>\n",
       "      <td>121.015727</td>\n",
       "      <td>31.743118</td>\n",
       "      <td>江苏省苏州市常熟市;;瓦屑坝,长春化工公司,四方坝</td>\n",
       "      <td>苏ED1068</td>\n",
       "      <td>苏ED1068</td>\n",
       "      <td>黄色</td>\n",
       "      <td>在线 / 行驶</td>\n",
       "    </tr>\n",
       "    <tr>\n",
       "      <th>8</th>\n",
       "      <td>NaN</td>\n",
       "      <td>7</td>\n",
       "      <td>2022-07-11 19:41:00</td>\n",
       "      <td>14 km/h</td>\n",
       "      <td>东南</td>\n",
       "      <td>121.016768</td>\n",
       "      <td>31.74257</td>\n",
       "      <td>江苏省苏州市常熟市;;瓦屑坝,长春化工公司,四方坝</td>\n",
       "      <td>苏ED1068</td>\n",
       "      <td>苏ED1068</td>\n",
       "      <td>黄色</td>\n",
       "      <td>在线 / 行驶</td>\n",
       "    </tr>\n",
       "    <tr>\n",
       "      <th>9</th>\n",
       "      <td>NaN</td>\n",
       "      <td>8</td>\n",
       "      <td>2022-07-11 19:41:30</td>\n",
       "      <td>11 km/h</td>\n",
       "      <td>东南</td>\n",
       "      <td>121.017777</td>\n",
       "      <td>31.742042</td>\n",
       "      <td>江苏省苏州市常熟市;长春路;长春化工公司,瓦屑坝,四方坝</td>\n",
       "      <td>苏ED1068</td>\n",
       "      <td>苏ED1068</td>\n",
       "      <td>黄色</td>\n",
       "      <td>在线 / 行驶</td>\n",
       "    </tr>\n",
       "  </tbody>\n",
       "</table>\n",
       "</div>"
      ],
      "text/plain": [
       "   Unnamed: 0                                         Unnamed: 1  \\\n",
       "0         NaN  苏ED1068_历史轨迹(2022-07-11_18-06-00至2022-07-12_08...   \n",
       "1         NaN                                                 序号   \n",
       "2         NaN                                                  1   \n",
       "3         NaN                                                  2   \n",
       "4         NaN                                                  3   \n",
       "5         NaN                                                  4   \n",
       "6         NaN                                                  5   \n",
       "7         NaN                                                  6   \n",
       "8         NaN                                                  7   \n",
       "9         NaN                                                  8   \n",
       "\n",
       "            Unnamed: 2 Unnamed: 3 Unnamed: 4  Unnamed: 5 Unnamed: 6  \\\n",
       "0                  NaN        NaN        NaN         NaN        NaN   \n",
       "1                 定位时间       行驶速度       行驶方向        定位经度       定位纬度   \n",
       "2  2022-07-11 18:06:00     0 km/h         正北   121.01193  31.743285   \n",
       "3  2022-07-11 19:38:30     0 km/h         正北  121.012273  31.743138   \n",
       "4  2022-07-11 19:39:00    12 km/h         东北  121.013055  31.742938   \n",
       "5  2022-07-11 19:39:30    14 km/h         东北  121.013672  31.743843   \n",
       "6  2022-07-11 19:40:00    13 km/h         东南  121.014705   31.74365   \n",
       "7  2022-07-11 19:40:30    13 km/h         东南  121.015727  31.743118   \n",
       "8  2022-07-11 19:41:00    14 km/h         东南  121.016768   31.74257   \n",
       "9  2022-07-11 19:41:30    11 km/h         东南  121.017777  31.742042   \n",
       "\n",
       "                     Unnamed: 7 Unnamed: 8 Unnamed: 9 Unnamed: 10  \\\n",
       "0                           NaN        NaN        NaN         NaN   \n",
       "1                          地理位置       车辆名称       车牌号码        车牌颜色   \n",
       "2     江苏省苏州市常熟市;亚太路;张家桥,瓦屑坝,四方坝    苏ED1068    苏ED1068          黄色   \n",
       "3     江苏省苏州市常熟市;亚太路;瓦屑坝,张家桥,四方坝    苏ED1068    苏ED1068          黄色   \n",
       "4     江苏省苏州市常熟市;;瓦屑坝,四方坝,长春化工公司    苏ED1068    苏ED1068          黄色   \n",
       "5        江苏省苏州市常熟市;;瓦屑坝,姚家泾,四方坝    苏ED1068    苏ED1068          黄色   \n",
       "6        江苏省苏州市常熟市;;瓦屑坝,姚家泾,四方坝    苏ED1068    苏ED1068          黄色   \n",
       "7     江苏省苏州市常熟市;;瓦屑坝,长春化工公司,四方坝    苏ED1068    苏ED1068          黄色   \n",
       "8     江苏省苏州市常熟市;;瓦屑坝,长春化工公司,四方坝    苏ED1068    苏ED1068          黄色   \n",
       "9  江苏省苏州市常熟市;长春路;长春化工公司,瓦屑坝,四方坝    苏ED1068    苏ED1068          黄色   \n",
       "\n",
       "      Unnamed: 11  \n",
       "0             NaN  \n",
       "1            车辆状态  \n",
       "2  在线 / 停车 / ACC关  \n",
       "3  在线 / 停车 / ACC开  \n",
       "4         在线 / 行驶  \n",
       "5         在线 / 行驶  \n",
       "6         在线 / 行驶  \n",
       "7         在线 / 行驶  \n",
       "8         在线 / 行驶  \n",
       "9         在线 / 行驶  "
      ]
     },
     "execution_count": 3,
     "metadata": {},
     "output_type": "execute_result"
    }
   ],
   "source": [
    "filename = r\"E:\\专案管理\\GPS\\data\\7月\\坤达\\坤达\\苏ED1068_常州2022-07-11_.xls\"\n",
    "df = pd.read_excel(filename)\n",
    "df.head(10)"
   ]
  },
  {
   "cell_type": "code",
   "execution_count": 1,
   "metadata": {},
   "outputs": [],
   "source": [
    "m = 2**32\n",
    "a = 1103515245\n",
    "c = 12345"
   ]
  },
  {
   "cell_type": "code",
   "execution_count": 32,
   "metadata": {},
   "outputs": [],
   "source": [
    "seed=1213\n",
    "seed2 = 0"
   ]
  },
  {
   "cell_type": "code",
   "execution_count": 109,
   "metadata": {},
   "outputs": [
    {
     "data": {
      "text/plain": [
       "0.47286963649094105"
      ]
     },
     "execution_count": 109,
     "metadata": {},
     "output_type": "execute_result"
    }
   ],
   "source": [
    "seed2 = (a * (seed+seed2) + c) % m\n",
    "seed2/(m)\n",
    "\n",
    "\n",
    "\n"
   ]
  },
  {
   "cell_type": "code",
   "execution_count": 53,
   "metadata": {},
   "outputs": [],
   "source": [
    "def LCG(seed,mi,m,n):\n",
    "    seed = (a * seed + c) % m\n",
    "    "
   ]
  },
  {
   "cell_type": "code",
   "execution_count": 113,
   "metadata": {},
   "outputs": [
    {
     "name": "stdout",
     "output_type": "stream",
     "text": [
      "1821411866 2241196245105653246\n"
     ]
    }
   ],
   "source": [
    " \n",
    " \n",
    " te1 = (a * (seed+seed2) + c) % m\n",
    " te2 = (a * (seed+seed2) + c)  - int((a * (seed+seed2) + c) / m)\n",
    " print(te1,te2)"
   ]
  },
  {
   "cell_type": "code",
   "execution_count": 114,
   "metadata": {},
   "outputs": [],
   "source": [
    "x = (a * (seed+seed2) + c) "
   ]
  },
  {
   "cell_type": "code",
   "execution_count": 115,
   "metadata": {},
   "outputs": [
    {
     "data": {
      "text/plain": [
       "2241196245627472410"
      ]
     },
     "execution_count": 115,
     "metadata": {},
     "output_type": "execute_result"
    }
   ],
   "source": [
    "x"
   ]
  },
  {
   "cell_type": "code",
   "execution_count": 116,
   "metadata": {},
   "outputs": [
    {
     "data": {
      "text/plain": [
       "1821411866"
      ]
     },
     "execution_count": 116,
     "metadata": {},
     "output_type": "execute_result"
    }
   ],
   "source": [
    "x % m"
   ]
  },
  {
   "cell_type": "code",
   "execution_count": 118,
   "metadata": {},
   "outputs": [
    {
     "data": {
      "text/plain": [
       "521819164.4240805"
      ]
     },
     "execution_count": 118,
     "metadata": {},
     "output_type": "execute_result"
    }
   ],
   "source": [
    "x / m"
   ]
  },
  {
   "cell_type": "code",
   "execution_count": 120,
   "metadata": {},
   "outputs": [
    {
     "data": {
      "text/plain": [
       "1821411866"
      ]
     },
     "execution_count": 120,
     "metadata": {},
     "output_type": "execute_result"
    }
   ],
   "source": [
    "x - int(x/m)*m"
   ]
  },
  {
   "cell_type": "code",
   "execution_count": 121,
   "metadata": {},
   "outputs": [
    {
     "data": {
      "text/plain": [
       "1"
      ]
     },
     "execution_count": 121,
     "metadata": {},
     "output_type": "execute_result"
    }
   ],
   "source": [
    "9 % 2"
   ]
  },
  {
   "cell_type": "code",
   "execution_count": 122,
   "metadata": {},
   "outputs": [
    {
     "data": {
      "text/plain": [
       "1"
      ]
     },
     "execution_count": 122,
     "metadata": {},
     "output_type": "execute_result"
    }
   ],
   "source": [
    "9-int(9/2)*2"
   ]
  },
  {
   "cell_type": "code",
   "execution_count": 125,
   "metadata": {},
   "outputs": [
    {
     "data": {
      "text/plain": [
       "4"
      ]
     },
     "execution_count": 125,
     "metadata": {},
     "output_type": "execute_result"
    }
   ],
   "source": [
    "int(9.3/2)"
   ]
  },
  {
   "cell_type": "code",
   "execution_count": null,
   "metadata": {},
   "outputs": [],
   "source": []
  }
 ],
 "metadata": {
  "kernelspec": {
   "display_name": "Python 3.8.8 ('base')",
   "language": "python",
   "name": "python3"
  },
  "language_info": {
   "codemirror_mode": {
    "name": "ipython",
    "version": 3
   },
   "file_extension": ".py",
   "mimetype": "text/x-python",
   "name": "python",
   "nbconvert_exporter": "python",
   "pygments_lexer": "ipython3",
   "version": "3.8.8"
  },
  "orig_nbformat": 4,
  "vscode": {
   "interpreter": {
    "hash": "e42634819b8c191a5d07eaf23810ff32516dd8d3875f28ec3e488928fbd3c187"
   }
  }
 },
 "nbformat": 4,
 "nbformat_minor": 2
}
